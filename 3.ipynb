{
 "cells": [
  {
   "cell_type": "code",
   "execution_count": 4,
   "metadata": {},
   "outputs": [],
   "source": [
    "import os\n",
    "import cv2\n",
    "import numpy as np\n",
    "\n",
    "data_dir = 'C:/Om/Data'\n",
    "save_dir = 'C:/Om/Data/processed'\n",
    "\n",
    "if not os.path.exists(save_dir):\n",
    "    os.makedirs(save_dir)\n",
    "\n",
    "for sub_dir in ['driver_182_30frame']:\n",
    "    sub_dir_path = os.path.join(data_dir, sub_dir)\n",
    "    for img_name in sorted(os.listdir(sub_dir_path)):\n",
    "        if img_name.endswith('.jpg'):\n",
    "            img_path = os.path.join(sub_dir_path, img_name)\n",
    "            img = cv2.imread(img_path)\n",
    "            lanes = np.zeros_like(img[:,:,0])\n",
    "            lanes_pts = np.loadtxt(img_path.replace('.jpg', '.lines.txt'))\n",
    "            for lane_pts in lanes_pts:\n",
    "                lane_pts = lane_pts.reshape((-1, 2)).astype(np.int32)\n",
    "                cv2.polylines(lanes, [lane_pts], isClosed=False, color=(255, 255, 255), thickness=5)\n",
    "            cv2.imwrite(os.path.join(save_dir, img_name), img)\n",
    "            np.save(os.path.join(save_dir, img_name.replace('.jpg', '_lanes.npy')), lanes)\n"
   ]
  },
  {
   "cell_type": "code",
   "execution_count": null,
   "metadata": {},
   "outputs": [],
   "source": []
  }
 ],
 "metadata": {
  "kernelspec": {
   "display_name": "base",
   "language": "python",
   "name": "python3"
  },
  "language_info": {
   "codemirror_mode": {
    "name": "ipython",
    "version": 3
   },
   "file_extension": ".py",
   "mimetype": "text/x-python",
   "name": "python",
   "nbconvert_exporter": "python",
   "pygments_lexer": "ipython3",
   "version": "3.9.15"
  },
  "orig_nbformat": 4
 },
 "nbformat": 4,
 "nbformat_minor": 2
}
